{
 "cells": [
  {
   "cell_type": "code",
   "execution_count": 4,
   "metadata": {},
   "outputs": [
    {
     "name": "stdout",
     "output_type": "stream",
     "text": [
      "[(0, 4), (1, 9), (2, 6), (3, 10), (5, 7), (8, 11)]\n"
     ]
    }
   ],
   "source": [
    "infile = open('pg2_resource/12.in')\n",
    "n = int(infile.readline().strip()) // 2\n",
    "chords = []\n",
    "for idx, line in enumerate(infile):\n",
    "    if idx == n:\n",
    "        break\n",
    "    chord = [int(i) for i in line.strip().split(' ')]\n",
    "    chord = sorted(chord)\n",
    "    chord = tuple(chord)\n",
    "    chords.append(chord)\n",
    "print(chords)"
   ]
  },
  {
   "cell_type": "code",
   "execution_count": 5,
   "metadata": {},
   "outputs": [
    {
     "name": "stdout",
     "output_type": "stream",
     "text": [
      "max: 3\n"
     ]
    }
   ],
   "source": [
    "saved_mps = {}\n",
    "for l in range(1, 2*n): # \"length\" of chord\n",
    "    # print('l =',l)\n",
    "    for start_idx in range(2*n-l):\n",
    "        end_idx = start_idx+l \n",
    "        if l == 1:\n",
    "            if (start_idx, end_idx) in chords: # start_idx < end_idx\n",
    "                saved_mps[(start_idx, end_idx)] = 1\n",
    "            else:\n",
    "                saved_mps[(start_idx, end_idx)] = 0\n",
    "        else:\n",
    "            max_mps = 0\n",
    "            for k in range(start_idx+1, end_idx): # build up from subproblem answers\n",
    "                mps_here = saved_mps[(start_idx, k)] + saved_mps[(k, end_idx)]\n",
    "                if mps_here > max_mps:\n",
    "                    max_mps = mps_here\n",
    "            if (start_idx, end_idx) in chords:\n",
    "                max_mps += 1\n",
    "            \n",
    "            saved_mps[(start_idx, end_idx)] = max_mps\n",
    "print('max:', saved_mps[(0,2*n-1)])"
   ]
  },
  {
   "cell_type": "code",
   "execution_count": null,
   "metadata": {},
   "outputs": [],
   "source": []
  }
 ],
 "metadata": {
  "kernelspec": {
   "display_name": "Python 3",
   "language": "python",
   "name": "python3"
  },
  "language_info": {
   "codemirror_mode": {
    "name": "ipython",
    "version": 3
   },
   "file_extension": ".py",
   "mimetype": "text/x-python",
   "name": "python",
   "nbconvert_exporter": "python",
   "pygments_lexer": "ipython3",
   "version": "3.6.4"
  }
 },
 "nbformat": 4,
 "nbformat_minor": 2
}
