{
 "cells": [
  {
   "cell_type": "code",
   "execution_count": 44,
   "metadata": {},
   "outputs": [],
   "source": [
    "infile = open('pg2_resource/5000.in')\n",
    "n = int(infile.readline().strip()) // 2\n",
    "point2point = {}\n",
    "for idx, line in enumerate(infile):\n",
    "    if idx == n:\n",
    "        break\n",
    "    chord = [int(i) for i in line.strip().split(' ')]\n",
    "    point2point[chord[1]] = chord[0]\n",
    "    point2point[chord[0]] = chord[1]\n",
    "# print(point2point)"
   ]
  },
  {
   "cell_type": "code",
   "execution_count": 45,
   "metadata": {},
   "outputs": [
    {
     "name": "stdout",
     "output_type": "stream",
     "text": [
      "max: 120\n",
      "chords: [(21, 996), (32, 964), (51, 101), (103, 945), (105, 928), (116, 654), (133, 652), (155, 614), (205, 589), (235, 576), (311, 322), (343, 572), (351, 367), (391, 396), (453, 562), (499, 532), (681, 927), (735, 923), (788, 918), (797, 821), (1031, 1227), (1033, 1218), (1045, 1204), (1065, 1103), (1148, 1197), (1240, 4724), (1279, 4722), (1280, 2584), (1285, 2581), (1289, 2554), (1344, 2428), (1384, 2423), (1388, 1557), (1396, 1445), (1467, 1510), (1524, 1544), (1567, 2416), (1570, 2376), (1579, 2340), (1588, 2323), (1594, 1658), (1597, 1626), (1661, 2299), (1705, 2215), (1722, 2151), (1796, 1831), (1843, 2149), (1844, 1904), (1853, 1860), (1924, 2148), (1928, 1983), (1930, 1974), (2005, 2043), (2058, 2074), (2097, 2126), (2139, 2144), (2199, 2203), (2219, 2296), (2234, 2285), (2434, 2436), (2438, 2476), (2494, 2552), (2587, 2611), (2626, 4703), (2666, 4692), (2668, 4650), (2679, 4595), (2683, 4582), (2696, 2713), (2721, 2771), (2776, 4576), (2777, 4569), (2811, 4555), (2813, 4313), (2839, 4259), (2858, 2868), (2881, 4249), (2882, 3957), (2884, 3630), (2891, 3293), (2899, 3161), (2911, 3156), (2956, 3116), (2967, 3104), (3028, 3097), (3045, 3096), (3106, 3108), (3173, 3257), (3264, 3285), (3314, 3621), (3364, 3593), (3366, 3564), (3386, 3480), (3422, 3468), (3430, 3438), (3502, 3550), (3633, 3710), (3659, 3686), (3743, 3948), (3760, 3922), (3771, 3825), (3848, 3892), (3880, 3888), (3959, 4211), (3987, 4085), (3988, 4048), (4086, 4168), (4097, 4118), (4221, 4239), (4327, 4534), (4352, 4519), (4379, 4389), (4421, 4456), (4483, 4511), (4740, 4940), (4747, 4752), (4761, 4930), (4771, 4905), (4852, 4893), (4945, 4961)]\n"
     ]
    }
   ],
   "source": [
    "saved_mps = {}\n",
    "saved_mps_chords = {}\n",
    "for idx in range(2*n): # initialize\n",
    "    saved_mps[(idx, idx)] = 0\n",
    "    saved_mps[(idx, idx-1)] = 0\n",
    "    saved_mps_chords[(idx, idx)] = []\n",
    "    saved_mps_chords[(idx, idx-1)] = []\n",
    "\n",
    "for l in range(1, 2*n): # \"length\" of chord, 1~(2n-1)\n",
    "    # print('l =',l)\n",
    "    for start_idx in range(2*n-l):\n",
    "        end_idx = start_idx+l\n",
    "        k = point2point[end_idx]\n",
    "        # print(start_idx, k, end_idx)\n",
    "        if k == start_idx: # case 3\n",
    "            saved_mps[(start_idx, end_idx)] = saved_mps[(start_idx+1, end_idx-1)] + 1\n",
    "            saved_mps_chords[(start_idx, end_idx)] = [(start_idx, end_idx)] + saved_mps_chords[(start_idx+1, end_idx-1)]\n",
    "        elif k > start_idx and k < end_idx: # case 2\n",
    "            candidate = saved_mps[(start_idx, k-1)] + 1 + saved_mps[(k+1, end_idx-1)]\n",
    "            if candidate > saved_mps[(start_idx, end_idx-1)]:\n",
    "                saved_mps[(start_idx, end_idx)] = candidate\n",
    "                saved_mps_chords[(start_idx, end_idx)] = saved_mps_chords[(start_idx, k-1)] + [(k, end_idx)] + saved_mps_chords[(k+1, end_idx-1)]\n",
    "            else:\n",
    "                saved_mps[(start_idx, end_idx)] = saved_mps[(start_idx, end_idx-1)]\n",
    "                saved_mps_chords[(start_idx, end_idx)] = saved_mps_chords[(start_idx, end_idx-1)]\n",
    "        else: # case 1\n",
    "            saved_mps[(start_idx, end_idx)] = saved_mps[(start_idx, end_idx-1)]\n",
    "            saved_mps_chords[(start_idx, end_idx)] = saved_mps_chords[(start_idx, end_idx-1)]\n",
    "print('max:', saved_mps[(0,2*n-1)])\n",
    "print('chords:', saved_mps_chords[(0,2*n-1)])"
   ]
  },
  {
   "cell_type": "code",
   "execution_count": null,
   "metadata": {},
   "outputs": [],
   "source": []
  }
 ],
 "metadata": {
  "kernelspec": {
   "display_name": "Python 3",
   "language": "python",
   "name": "python3"
  },
  "language_info": {
   "codemirror_mode": {
    "name": "ipython",
    "version": 3
   },
   "file_extension": ".py",
   "mimetype": "text/x-python",
   "name": "python",
   "nbconvert_exporter": "python",
   "pygments_lexer": "ipython3",
   "version": "3.6.4"
  }
 },
 "nbformat": 4,
 "nbformat_minor": 2
}
